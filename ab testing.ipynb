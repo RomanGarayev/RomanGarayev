{
 "cells": [
  {
   "cell_type": "code",
   "execution_count": 10,
   "metadata": {},
   "outputs": [],
   "source": [
    "import numpy as np\n",
    "import pandas as pd"
   ]
  },
  {
   "cell_type": "code",
   "execution_count": 14,
   "metadata": {
    "scrolled": false
   },
   "outputs": [
    {
     "data": {
      "text/html": [
       "<div>\n",
       "<style scoped>\n",
       "    .dataframe tbody tr th:only-of-type {\n",
       "        vertical-align: middle;\n",
       "    }\n",
       "\n",
       "    .dataframe tbody tr th {\n",
       "        vertical-align: top;\n",
       "    }\n",
       "\n",
       "    .dataframe thead th {\n",
       "        text-align: right;\n",
       "    }\n",
       "</style>\n",
       "<table border=\"1\" class=\"dataframe\">\n",
       "  <thead>\n",
       "    <tr style=\"text-align: right;\">\n",
       "      <th></th>\n",
       "      <th>userID</th>\n",
       "      <th>browser</th>\n",
       "      <th>slot</th>\n",
       "      <th>n_clicks</th>\n",
       "      <th>n_queries</th>\n",
       "      <th>n_nonclk_queries</th>\n",
       "    </tr>\n",
       "  </thead>\n",
       "  <tbody>\n",
       "    <tr>\n",
       "      <th>0</th>\n",
       "      <td>1</td>\n",
       "      <td>Browser #2</td>\n",
       "      <td>exp</td>\n",
       "      <td>23</td>\n",
       "      <td>32</td>\n",
       "      <td>19</td>\n",
       "    </tr>\n",
       "    <tr>\n",
       "      <th>1</th>\n",
       "      <td>3</td>\n",
       "      <td>Browser #4</td>\n",
       "      <td>exp</td>\n",
       "      <td>3</td>\n",
       "      <td>4</td>\n",
       "      <td>2</td>\n",
       "    </tr>\n",
       "    <tr>\n",
       "      <th>2</th>\n",
       "      <td>5</td>\n",
       "      <td>Browser #4</td>\n",
       "      <td>exp</td>\n",
       "      <td>29</td>\n",
       "      <td>35</td>\n",
       "      <td>16</td>\n",
       "    </tr>\n",
       "    <tr>\n",
       "      <th>3</th>\n",
       "      <td>6</td>\n",
       "      <td>Browser #4</td>\n",
       "      <td>control</td>\n",
       "      <td>12</td>\n",
       "      <td>6</td>\n",
       "      <td>0</td>\n",
       "    </tr>\n",
       "    <tr>\n",
       "      <th>4</th>\n",
       "      <td>7</td>\n",
       "      <td>Browser #4</td>\n",
       "      <td>exp</td>\n",
       "      <td>54</td>\n",
       "      <td>68</td>\n",
       "      <td>30</td>\n",
       "    </tr>\n",
       "  </tbody>\n",
       "</table>\n",
       "</div>"
      ],
      "text/plain": [
       "   userID     browser     slot  n_clicks  n_queries  n_nonclk_queries\n",
       "0       1  Browser #2      exp        23         32                19\n",
       "1       3  Browser #4      exp         3          4                 2\n",
       "2       5  Browser #4      exp        29         35                16\n",
       "3       6  Browser #4  control        12          6                 0\n",
       "4       7  Browser #4      exp        54         68                30"
      ]
     },
     "execution_count": 14,
     "metadata": {},
     "output_type": "execute_result"
    }
   ],
   "source": [
    "data = pd.read_csv(r'/Users/roman/Desktop/ab data.csv')\n",
    "data.head(5)"
   ]
  },
  {
   "cell_type": "code",
   "execution_count": 102,
   "metadata": {},
   "outputs": [],
   "source": [
    "exp_click = data.n_clicks[data.slot == 'exp'].values\n",
    "control_click = data.n_clicks[data.slot == 'control'].values"
   ]
  },
  {
   "cell_type": "code",
   "execution_count": 29,
   "metadata": {},
   "outputs": [
    {
     "data": {
      "text/plain": [
       "1.6135689824415809"
      ]
     },
     "execution_count": 29,
     "metadata": {},
     "output_type": "execute_result"
    }
   ],
   "source": [
    "(( exp_click.sum() - control_click.sum() ) / control_click.sum() ) * 100"
   ]
  },
  {
   "cell_type": "code",
   "execution_count": 30,
   "metadata": {},
   "outputs": [],
   "source": [
    "def get_bootstrap_samples(data, n_samples):\n",
    "    indices = np.random.randint(0, len(data), (n_samples, len(data)))\n",
    "    samples = data[indices]\n",
    "    return samples\n",
    "\n",
    "def stat_intervals(stat, alpha):\n",
    "    boundaries = np.percentile(stat, [100 * alpha / 2., 100 * (1 - alpha / 2.)])\n",
    "    return boundaries"
   ]
  },
  {
   "cell_type": "code",
   "execution_count": 48,
   "metadata": {},
   "outputs": [
    {
     "name": "stdout",
     "output_type": "stream",
     "text": [
      "11.584000994388806 \n",
      "\n",
      "11.280906260323173 \n",
      "\n"
     ]
    }
   ],
   "source": [
    "exp_mean = exp_click.mean()\n",
    "control_click_mean = control_click.mean()\n",
    "\n",
    "print(exp_mean,'\\n')\n",
    "print(control_click_mean,\"\\n\")"
   ]
  },
  {
   "cell_type": "code",
   "execution_count": 56,
   "metadata": {},
   "outputs": [],
   "source": [
    "exp_mean_bs = list(map(np.mean,\n",
    "                  get_bootstrap_samples(exp_click.values,100)))\n",
    "\n",
    "control_mean_bs = list(map(np.mean,\n",
    "                      get_bootstrap_samples(control_click.values,100)))"
   ]
  },
  {
   "cell_type": "code",
   "execution_count": 57,
   "metadata": {},
   "outputs": [],
   "source": [
    "bnd_exp = stat_intervals(exp_mean_bs,0.05)\n",
    "bnd_control = stat_intervals(control_mean_bs,0.05)"
   ]
  },
  {
   "cell_type": "code",
   "execution_count": 64,
   "metadata": {},
   "outputs": [],
   "source": [
    "delta = list(map(lambda x: x[1] - x[0],zip(exp_mean_bs,control_mean_bs)))"
   ]
  },
  {
   "cell_type": "code",
   "execution_count": 65,
   "metadata": {},
   "outputs": [
    {
     "data": {
      "text/plain": [
       "array([-0.40341738, -0.20925822])"
      ]
     },
     "execution_count": 65,
     "metadata": {},
     "output_type": "execute_result"
    }
   ],
   "source": [
    "stat_intervals(delta,0.05)"
   ]
  },
  {
   "cell_type": "code",
   "execution_count": 66,
   "metadata": {},
   "outputs": [],
   "source": [
    "delta2 = list(map(lambda x: x[1] - x[0],zip(control_mean_bs,exp_mean_bs)))"
   ]
  },
  {
   "cell_type": "code",
   "execution_count": 67,
   "metadata": {},
   "outputs": [
    {
     "data": {
      "text/plain": [
       "array([0.20925822, 0.40341738])"
      ]
     },
     "execution_count": 67,
     "metadata": {},
     "output_type": "execute_result"
    }
   ],
   "source": [
    "stat_intervals(delta2,0.05)"
   ]
  },
  {
   "cell_type": "code",
   "execution_count": 68,
   "metadata": {},
   "outputs": [
    {
     "data": {
      "text/plain": [
       "array([1., 1.])"
      ]
     },
     "execution_count": 68,
     "metadata": {},
     "output_type": "execute_result"
    }
   ],
   "source": [
    "exp_median_bs = list(map(np.median,\n",
    "                  get_bootstrap_samples(exp_click.values,100)))\n",
    "\n",
    "control_median_bs = list(map(np.median,\n",
    "                      get_bootstrap_samples(control_click.values,100)))\n",
    "\n",
    "bnd_exp = stat_intervals(exp_median_bs,0.05)\n",
    "bnd_control = stat_intervals(control_median_bs,0.05)\n",
    "\n",
    "delta3 = list(map(lambda x: x[1] - x[0],zip(control_median_bs,exp_median_bs)))\n",
    "\n",
    "stat_intervals(delta3,0.05)"
   ]
  },
  {
   "cell_type": "code",
   "execution_count": 75,
   "metadata": {},
   "outputs": [],
   "source": [
    "np.random.seed(0)\n",
    "n_boot_samples = 500\n",
    "\n",
    "samples = get_bootstrap_samples(control_click.values,n_boot_samples)"
   ]
  },
  {
   "cell_type": "code",
   "execution_count": 78,
   "metadata": {},
   "outputs": [],
   "source": [
    "means =list(map(np.mean,samples))"
   ]
  },
  {
   "cell_type": "code",
   "execution_count": 79,
   "metadata": {},
   "outputs": [
    {
     "data": {
      "text/plain": [
       "[11.238028634283827,\n",
       " 11.258428980088137,\n",
       " 11.325808106721395,\n",
       " 11.331944024684242,\n",
       " 11.25147775114741,\n",
       " 11.265411837471973,\n",
       " 11.256844043661308,\n",
       " 11.355630214300273,\n",
       " 11.21341467700331,\n",
       " 11.307748265707037,\n",
       " 11.299612727285506,\n",
       " 11.254580852843397,\n",
       " 11.244821721009018,\n",
       " 11.337018632667261,\n",
       " 11.26035128657478,\n",
       " 11.301151978183404,\n",
       " 11.27396908846827,\n",
       " 11.278607926790697,\n",
       " 11.252018948951692,\n",
       " 11.182443402658196,\n",
       " 11.22815001721993,\n",
       " 11.286968378585435,\n",
       " 11.293276495849645,\n",
       " 11.27846032738953,\n",
       " 11.367255424277992,\n",
       " 11.238527660830632,\n",
       " 11.242818586278878,\n",
       " 11.289484596948206,\n",
       " 11.334913584064887,\n",
       " 11.272914807031354,\n",
       " 11.3294980917506,\n",
       " 11.266142805934901,\n",
       " 11.344128003823528,\n",
       " 11.27089761521539,\n",
       " 11.317704196742973,\n",
       " 11.298315961118101,\n",
       " 11.3461768240826,\n",
       " 11.253055659031327,\n",
       " 11.337313831469599,\n",
       " 11.283141336969432,\n",
       " 11.247088426098385,\n",
       " 11.36904770272075,\n",
       " 11.32429696999515,\n",
       " 11.227717761830794,\n",
       " 11.284698159224611,\n",
       " 11.29106601910358,\n",
       " 11.268648481483304,\n",
       " 11.267790999247946,\n",
       " 11.24545077559971,\n",
       " 11.341703156518623,\n",
       " 11.26097331262256,\n",
       " 11.31073891071642,\n",
       " 11.262273593061423,\n",
       " 11.260646485377116,\n",
       " 11.309097745946287,\n",
       " 11.282034341460673,\n",
       " 11.246498028493713,\n",
       " 11.297223022695166,\n",
       " 11.29926832868278,\n",
       " 11.296752110320009,\n",
       " 11.253846370109013,\n",
       " 11.30783260822199,\n",
       " 11.260534028690513,\n",
       " 11.274292401442256,\n",
       " 11.282536882278935,\n",
       " 11.306212529080597,\n",
       " 11.249249703044063,\n",
       " 11.339714078874309,\n",
       " 11.252489861326849,\n",
       " 11.297117594551473,\n",
       " 11.270967900644518,\n",
       " 11.285028500741511,\n",
       " 11.245341833184563,\n",
       " 11.340420447437042,\n",
       " 11.275712167110637,\n",
       " 11.356238183262228,\n",
       " 11.307699065906647,\n",
       " 11.270106904137704,\n",
       " 11.26546455154382,\n",
       " 11.310918138560695,\n",
       " 11.265042838969054,\n",
       " 11.267256829986575,\n",
       " 11.276063594256275,\n",
       " 11.306381214110504,\n",
       " 11.327614442249978,\n",
       " 11.325966248936933,\n",
       " 11.238654174603063,\n",
       " 11.203254918222903,\n",
       " 11.322177864306951,\n",
       " 11.256211474799159,\n",
       " 11.276829705433766,\n",
       " 11.29428157748617,\n",
       " 11.316843200236159,\n",
       " 11.264543812422247,\n",
       " 11.304072337763658,\n",
       " 11.313785784069104,\n",
       " 11.354916817194628,\n",
       " 11.288581429183916,\n",
       " 11.29018042269657,\n",
       " 11.228318702249837,\n",
       " 11.21138342810152,\n",
       " 11.310239884169613,\n",
       " 11.334319672188759,\n",
       " 11.28592463996289,\n",
       " 11.307625266206063,\n",
       " 11.244463265320466,\n",
       " 11.274555971801487,\n",
       " 11.24735551072907,\n",
       " 11.313132129578218,\n",
       " 11.251885406636351,\n",
       " 11.334878441350323,\n",
       " 11.227310106341854,\n",
       " 11.327962355124159,\n",
       " 11.227134392769035,\n",
       " 11.32484168207089,\n",
       " 11.277708273297863,\n",
       " 11.349785980868306,\n",
       " 11.309807628780478,\n",
       " 11.228852871511206,\n",
       " 11.34072267478229,\n",
       " 11.214282702053037,\n",
       " 11.257072471305973,\n",
       " 11.306623698840994,\n",
       " 11.295602943553773,\n",
       " 11.250082585379225,\n",
       " 11.281261201740268,\n",
       " 11.277339274794942,\n",
       " 11.26321893208319,\n",
       " 11.29010310872453,\n",
       " 11.193822613633968,\n",
       " 11.272563379885716,\n",
       " 11.264839011224582,\n",
       " 11.253284086675992,\n",
       " 11.26318027509717,\n",
       " 11.263387617113096,\n",
       " 11.241416391967782,\n",
       " 11.307583094948587,\n",
       " 11.31993224484632,\n",
       " 11.252999430688025,\n",
       " 11.292949668604201,\n",
       " 11.21948030953703,\n",
       " 11.257522298052391,\n",
       " 11.284849272897235,\n",
       " 11.301074664211363,\n",
       " 11.284469731579946,\n",
       " 11.270423188568778,\n",
       " 11.297929391257899,\n",
       " 11.344012032865466,\n",
       " 11.296210912515726,\n",
       " 11.278059700443501,\n",
       " 11.316625315405863,\n",
       " 11.304065309220745,\n",
       " 11.322599576881716,\n",
       " 11.22997743837725,\n",
       " 11.289474054133837,\n",
       " 11.30138743437098,\n",
       " 11.234658447957154,\n",
       " 11.313620613310654,\n",
       " 11.263229474897559,\n",
       " 11.368063706712961,\n",
       " 11.258657407732803,\n",
       " 11.27039156012567,\n",
       " 11.229576811431222,\n",
       " 11.205054225208572,\n",
       " 11.29098870513154,\n",
       " 11.301025464410973,\n",
       " 11.288064831279828,\n",
       " 11.307231667802947,\n",
       " 11.309656515107854,\n",
       " 11.26732008687279,\n",
       " 11.280586461620642,\n",
       " 11.247482024501501,\n",
       " 11.262182222003556,\n",
       " 11.23664401133001,\n",
       " 11.320424242850216,\n",
       " 11.260502400247404,\n",
       " 11.254886594460103,\n",
       " 11.33695186150959,\n",
       " 11.250887353542737,\n",
       " 11.24727819675703,\n",
       " 11.298291361217906,\n",
       " 11.273087006332718,\n",
       " 11.29674156750564,\n",
       " 11.286307695551635,\n",
       " 11.373531913099095,\n",
       " 11.223279236981382,\n",
       " 11.255255592963023,\n",
       " 11.255086907933116,\n",
       " 11.276713734475706,\n",
       " 11.298642788363544,\n",
       " 11.333086162907568,\n",
       " 11.24396423877366,\n",
       " 11.270651616213442,\n",
       " 11.271825382879875,\n",
       " 11.271463412919868,\n",
       " 11.26068162809168,\n",
       " 11.28398827639042,\n",
       " 11.298793902036168,\n",
       " 11.263594959129023,\n",
       " 11.278365442060206,\n",
       " 11.248448449152006,\n",
       " 11.320916240854109,\n",
       " 11.298154304631106,\n",
       " 11.25985577429943,\n",
       " 11.295219887965025,\n",
       " 11.275529424994904,\n",
       " 11.378968491042123,\n",
       " 11.264441898550011,\n",
       " 11.256865129290047,\n",
       " 11.370882152420982,\n",
       " 11.276077651342101,\n",
       " 11.300470209520864,\n",
       " 11.311536650337018,\n",
       " 11.237041124004582,\n",
       " 11.342216240151254,\n",
       " 11.304170737364437,\n",
       " 11.275750824096656,\n",
       " 11.306402299739242,\n",
       " 11.306975125986632,\n",
       " 11.261363396754218,\n",
       " 11.302244916606337,\n",
       " 11.297630678184106,\n",
       " 11.284740330482087,\n",
       " 11.273368148049228,\n",
       " 11.284163989963242,\n",
       " 11.250655411626616,\n",
       " 11.292731783773906,\n",
       " 11.308071578681023,\n",
       " 11.28151071501367,\n",
       " 11.298259732774799,\n",
       " 11.276977304834935,\n",
       " 11.302062174490606,\n",
       " 11.32616304813849,\n",
       " 11.308127807024325,\n",
       " 11.184738221919213,\n",
       " 11.319053676982225,\n",
       " 11.290802448744351,\n",
       " 11.252229805239075,\n",
       " 11.248118107635106,\n",
       " 11.304441336266578,\n",
       " 11.32161558087393,\n",
       " 11.313132129578218,\n",
       " 11.266343119407916,\n",
       " 11.250606211826227,\n",
       " 11.264575440865354,\n",
       " 11.272236552640273,\n",
       " 11.30052292359271,\n",
       " 11.319619474686702,\n",
       " 11.314488638360382,\n",
       " 11.244702235779501,\n",
       " 11.310130941754466,\n",
       " 11.27503742699101,\n",
       " 11.29964787000007,\n",
       " 11.203553631296696,\n",
       " 11.33031340272848,\n",
       " 11.242783443564315,\n",
       " 11.25947623298214,\n",
       " 11.335363410811304,\n",
       " 11.249189960429304,\n",
       " 11.2956732289829,\n",
       " 11.295096888464052,\n",
       " 11.299633812914244,\n",
       " 11.219065625505177,\n",
       " 11.349114755020137,\n",
       " 11.297426850439635,\n",
       " 11.299964154431144,\n",
       " 11.307776379878687,\n",
       " 11.268251368808732,\n",
       " 11.248093507734911,\n",
       " 11.241637791069534,\n",
       " 11.359980882363278,\n",
       " 11.298333532475382,\n",
       " 11.293315152835666,\n",
       " 11.269386478489144,\n",
       " 11.255772190867111,\n",
       " 11.271400156033653,\n",
       " 11.276945676391827,\n",
       " 11.298902844451316,\n",
       " 11.239167258235694,\n",
       " 11.21573761043598,\n",
       " 11.25977846032739,\n",
       " 11.32158395243082,\n",
       " 11.237427693864785,\n",
       " 11.282290883276987,\n",
       " 11.295933285070673,\n",
       " 11.294162092256654,\n",
       " 11.305098505028923,\n",
       " 11.270873015315194,\n",
       " 11.247917794162092,\n",
       " 11.298115647645087,\n",
       " 11.30995171391019,\n",
       " 11.293445180879552,\n",
       " 11.300856779381066,\n",
       " 11.308626833571132,\n",
       " 11.256587501844992,\n",
       " 11.322160292949668,\n",
       " 11.220348334586756,\n",
       " 11.24425592330454,\n",
       " 11.260839770307218,\n",
       " 11.253983426695811,\n",
       " 11.36816210631374,\n",
       " 11.317742853728994,\n",
       " 11.24438243707697,\n",
       " 11.258594150846587,\n",
       " 11.239922826598818,\n",
       " 11.261806194957723,\n",
       " 11.277912101042332,\n",
       " 11.258000238970459,\n",
       " 11.268388425395532,\n",
       " 11.286065210821144,\n",
       " 11.285562670002882,\n",
       " 11.33376441729865,\n",
       " 11.259704660626806,\n",
       " 11.275304511621696,\n",
       " 11.23640152659952,\n",
       " 11.328225925483387,\n",
       " 11.25590924745391,\n",
       " 11.258443037173963,\n",
       " 11.305615102933011,\n",
       " 11.313501128081137,\n",
       " 11.321151697041687,\n",
       " 11.28184105653057,\n",
       " 11.241585076997687,\n",
       " 11.354561875777533,\n",
       " 11.2772057324796,\n",
       " 11.30849329125579,\n",
       " 11.308054007323742,\n",
       " 11.286862950441744,\n",
       " 11.269899562121777,\n",
       " 11.231896230592437,\n",
       " 11.250177470708547,\n",
       " 11.266771860525594,\n",
       " 11.212876993470484,\n",
       " 11.312116505127323,\n",
       " 11.267098687771039,\n",
       " 11.222453383189132,\n",
       " 11.370502611103692,\n",
       " 11.28678915074116,\n",
       " 11.317451169198113,\n",
       " 11.352277599330883,\n",
       " 11.276538020902887,\n",
       " 11.244927149152709,\n",
       " 11.28624443866542,\n",
       " 11.377615496531414,\n",
       " 11.28822648776682,\n",
       " 11.312190304827906,\n",
       " 11.244603836178722,\n",
       " 11.243539011927437,\n",
       " 11.270004990265468,\n",
       " 11.241697533684292,\n",
       " 11.306746698341966,\n",
       " 11.295479944052799,\n",
       " 11.312267618799947,\n",
       " 11.316751829178292,\n",
       " 11.27695270493474,\n",
       " 11.254876051645732,\n",
       " 11.318139966403566,\n",
       " 11.28238576860631,\n",
       " 11.251119295458858,\n",
       " 11.247647195259951,\n",
       " 11.266441519008694,\n",
       " 11.37085403824933,\n",
       " 11.301545576586518,\n",
       " 11.267720713818818,\n",
       " 11.245854916817194,\n",
       " 11.28699297848563,\n",
       " 11.317890453130161,\n",
       " 11.292668526887692,\n",
       " 11.374287481462218,\n",
       " 11.230810320712413,\n",
       " 11.286645065611449,\n",
       " 11.330397745243433,\n",
       " 11.269551649247594,\n",
       " 11.288015631479437,\n",
       " 11.243296527196946,\n",
       " 11.269822248149737,\n",
       " 11.236981381389825,\n",
       " 11.264761697252542,\n",
       " 11.28083246062259,\n",
       " 11.321520695544606,\n",
       " 11.272742607729992,\n",
       " 11.330506687658582,\n",
       " 11.3053339612165,\n",
       " 11.231572917618449,\n",
       " 11.306964583172263,\n",
       " 11.219793079696649,\n",
       " 11.287523633475544,\n",
       " 11.206256106046656,\n",
       " 11.325888934964892,\n",
       " 11.23902668737744,\n",
       " 11.291431503335044,\n",
       " 11.273227577190973,\n",
       " 11.295602943553773,\n",
       " 11.313075901234916,\n",
       " 11.267432543559394,\n",
       " 11.233091082887606,\n",
       " 11.282526339464566,\n",
       " 11.258959635078051,\n",
       " 11.354994131166668,\n",
       " 11.336375520990744,\n",
       " 11.270004990265468,\n",
       " 11.285805154733373,\n",
       " 11.286269038565615,\n",
       " 11.239912283784449,\n",
       " 11.28720734904447,\n",
       " 11.288254601938473,\n",
       " 11.30205866021915,\n",
       " 11.254468396156792,\n",
       " 11.281173344953858,\n",
       " 11.30702432578702,\n",
       " 11.202583692374734,\n",
       " 11.251892435179263,\n",
       " 11.277276017908727,\n",
       " 11.310050113510968,\n",
       " 11.251713207334987,\n",
       " 11.29150178876417,\n",
       " 11.31240116111529,\n",
       " 11.216746206343963,\n",
       " 11.241609676897882,\n",
       " 11.374435080863385,\n",
       " 11.287108949443692,\n",
       " 11.289474054133837,\n",
       " 11.288019145750894,\n",
       " 11.258917463820575,\n",
       " 11.245861945360108,\n",
       " 11.257026785777041,\n",
       " 11.300895436367087,\n",
       " 11.274714114017023,\n",
       " 11.255055279490009,\n",
       " 11.25881554994834,\n",
       " 11.360016025077842,\n",
       " 11.287667718605256,\n",
       " 11.26368633018689,\n",
       " 11.234830647258518,\n",
       " 11.343256464502344,\n",
       " 11.244730349951151,\n",
       " 11.37471270830844,\n",
       " 11.236085242168446,\n",
       " 11.299834126387259,\n",
       " 11.27994686421558,\n",
       " 11.28711949225806,\n",
       " 11.312952901733942,\n",
       " 11.323443002031249,\n",
       " 11.303049684769851,\n",
       " 11.261289597053635,\n",
       " 11.282789909823794,\n",
       " 11.393412146727862,\n",
       " 11.226621309136403,\n",
       " 11.294337805829473,\n",
       " 11.346401737455809,\n",
       " 11.349764895239568,\n",
       " 11.286012496749299,\n",
       " 11.206090935288206,\n",
       " 11.23755772190867,\n",
       " 11.262814790865706,\n",
       " 11.31076702488807,\n",
       " 11.389564019483121,\n",
       " 11.29076379175833,\n",
       " 11.242316045460615,\n",
       " 11.277251418008532,\n",
       " 11.231541289175341,\n",
       " 11.305376132473977,\n",
       " 11.289368625990146,\n",
       " 11.27635879305861,\n",
       " 11.321292267899942,\n",
       " 11.32591002059363,\n",
       " 11.230381579594734,\n",
       " 11.332249766300949,\n",
       " 11.27838301341749,\n",
       " 11.266118206034706,\n",
       " 11.310225827083787,\n",
       " 11.314576495146792,\n",
       " 11.222130070215144,\n",
       " 11.215797353050739,\n",
       " 11.346169795539687,\n",
       " 11.317335198240054,\n",
       " 11.249372702545035,\n",
       " 11.290166365610744,\n",
       " 11.282723138666123,\n",
       " 11.261440710726259,\n",
       " 11.293940693154902,\n",
       " 11.326567189355975,\n",
       " 11.257497698152196,\n",
       " 11.33593272278724,\n",
       " 11.337971000231942,\n",
       " 11.292109757726125,\n",
       " 11.274675457031003,\n",
       " 11.188305207447444,\n",
       " 11.282508768107284,\n",
       " 11.299226157425304,\n",
       " 11.289059370101985,\n",
       " 11.207904299359699,\n",
       " 11.271853497051525,\n",
       " 11.258102152842694,\n",
       " 11.307941550637137,\n",
       " 11.350710234261335,\n",
       " 11.228223816920515,\n",
       " 11.304233994250652,\n",
       " 11.21644749327017,\n",
       " 11.29605277030019]"
      ]
     },
     "execution_count": 79,
     "metadata": {},
     "output_type": "execute_result"
    }
   ],
   "source": [
    "means"
   ]
  },
  {
   "cell_type": "code",
   "execution_count": 80,
   "metadata": {},
   "outputs": [],
   "source": [
    "import seaborn as sns"
   ]
  },
  {
   "cell_type": "code",
   "execution_count": 82,
   "metadata": {},
   "outputs": [
    {
     "data": {
      "text/plain": [
       "<matplotlib.axes._subplots.AxesSubplot at 0x7f84fba4af70>"
      ]
     },
     "execution_count": 82,
     "metadata": {},
     "output_type": "execute_result"
    },
    {
     "data": {
      "image/png": "[encoded data removed]",
      "text/plain": [
       "<Figure size 432x288 with 1 Axes>"
      ]
     },
     "metadata": {
      "needs_background": "light"
     },
     "output_type": "display_data"
    }
   ],
   "source": [
    "sns.distplot(means)"
   ]
  },
  {
   "cell_type": "code",
   "execution_count": 87,
   "metadata": {},
   "outputs": [],
   "source": [
    "from matplotlib import pyplot as plt"
   ]
  },
  {
   "cell_type": "code",
   "execution_count": 93,
   "metadata": {},
   "outputs": [],
   "source": [
    "from scipy import stats"
   ]
  },
  {
   "cell_type": "code",
   "execution_count": 141,
   "metadata": {},
   "outputs": [
    {
     "data": {
      "text/plain": [
       "(0.0011968795416019045, 10.686009808530418, 0.9988899574415365)"
      ]
     },
     "execution_count": 141,
     "metadata": {},
     "output_type": "execute_result"
    },
    {
     "data": {
      "image/png": "[encoded data removed]",
      "text/plain": [
       "<Figure size 432x288 with 1 Axes>"
      ]
     },
     "metadata": {
      "needs_background": "light"
     },
     "output_type": "display_data"
    }
   ],
   "source": [
    "stats.probplot(means,dist=\"chi2\",sparams=len(means)-1,plot=plt,rvalue=True)[1]"
   ]
  },
  {
   "cell_type": "code",
   "execution_count": 98,
   "metadata": {},
   "outputs": [],
   "source": [
    "variances = list(map(np.var,samples))"
   ]
  },
  {
   "cell_type": "code",
   "execution_count": 142,
   "metadata": {},
   "outputs": [
    {
     "data": {
      "text/plain": [
       "(0.20886662879794235, 307.4001265880713, 0.9986416698820314)"
      ]
     },
     "execution_count": 142,
     "metadata": {},
     "output_type": "execute_result"
    },
    {
     "data": {
      "image/png": "[encoded data removed]",
      "text/plain": [
       "<Figure size 432x288 with 1 Axes>"
      ]
     },
     "metadata": {
      "needs_background": "light"
     },
     "output_type": "display_data"
    }
   ],
   "source": [
    "stats.probplot(variances,dist=\"chi2\",sparams=len(means)-1,plot=plt,rvalue=True)[1]"
   ]
  },
  {
   "cell_type": "code",
   "execution_count": 104,
   "metadata": {},
   "outputs": [],
   "source": [
    "from scipy.stats import mannwhitneyu\n"
   ]
  },
  {
   "cell_type": "code",
   "execution_count": 107,
   "metadata": {},
   "outputs": [
    {
     "data": {
      "text/plain": [
       "MannwhitneyuResult(statistic=41184125116.0, pvalue=6.247235801369629e-75)"
      ]
     },
     "execution_count": 107,
     "metadata": {},
     "output_type": "execute_result"
    }
   ],
   "source": [
    "mannwhitneyu(exp_click,control_click,alternative='two-sided')"
   ]
  },
  {
   "cell_type": "code",
   "execution_count": 119,
   "metadata": {},
   "outputs": [],
   "source": [
    "br2 = data[data['browser']==\"Browser #2\"]\n",
    "br14 = data[data['browser']==\"Browser #14\"]\n",
    "br17 = data[data['browser']==\"Browser #17\"]\n",
    "br20 = data[data['browser']==\"Browser #20\"]\n",
    "br22 = data[data['browser']==\"Browser #22\"]\n",
    "br4 = data[data['browser']==\"Browser #4\"]"
   ]
  },
  {
   "cell_type": "code",
   "execution_count": 113,
   "metadata": {},
   "outputs": [
    {
     "data": {
      "text/plain": [
       "array(['Browser #14', 'Browser #17', 'Browser #2', 'Browser #20',\n",
       "       'Browser #22', 'Browser #4'], dtype=object)"
      ]
     },
     "execution_count": 113,
     "metadata": {},
     "output_type": "execute_result"
    }
   ],
   "source": [
    "np.unique(data.browser)"
   ]
  },
  {
   "cell_type": "code",
   "execution_count": 129,
   "metadata": {},
   "outputs": [],
   "source": [
    "p2 = mannwhitneyu(br2[br2[\"slot\"]=='exp'].n_clicks.values,\n",
    "            br2[br2[\"slot\"]=='control'].n_clicks.values)[1]"
   ]
  },
  {
   "cell_type": "code",
   "execution_count": 130,
   "metadata": {},
   "outputs": [],
   "source": [
    "p14 = mannwhitneyu(br14[br14[\"slot\"]=='exp'].n_clicks.values,\n",
    "            br14[br14[\"slot\"]=='control'].n_clicks.values)[1]"
   ]
  },
  {
   "cell_type": "code",
   "execution_count": 131,
   "metadata": {},
   "outputs": [],
   "source": [
    "p17 = mannwhitneyu(br17[br17[\"slot\"]=='exp'].n_clicks.values,\n",
    "            br17[br17[\"slot\"]=='control'].n_clicks.values)[1]"
   ]
  },
  {
   "cell_type": "code",
   "execution_count": 132,
   "metadata": {},
   "outputs": [],
   "source": [
    "p20 = mannwhitneyu(br20[br20[\"slot\"]=='exp'].n_clicks.values,\n",
    "            br20[br20[\"slot\"]=='control'].n_clicks.values)[1]"
   ]
  },
  {
   "cell_type": "code",
   "execution_count": 133,
   "metadata": {},
   "outputs": [],
   "source": [
    "p22 = mannwhitneyu(br22[br22[\"slot\"]=='exp'].n_clicks.values,\n",
    "            br22[br22[\"slot\"]=='control'].n_clicks.values)[1]"
   ]
  },
  {
   "cell_type": "code",
   "execution_count": 134,
   "metadata": {},
   "outputs": [],
   "source": [
    "p4 = mannwhitneyu(br4[br4[\"slot\"]=='exp'].n_clicks.values,\n",
    "            br4[br4[\"slot\"]=='control'].n_clicks.values)[1]"
   ]
  },
  {
   "cell_type": "code",
   "execution_count": 135,
   "metadata": {},
   "outputs": [],
   "source": [
    "from statsmodels.stats.multitest import multipletests"
   ]
  },
  {
   "cell_type": "code",
   "execution_count": 137,
   "metadata": {},
   "outputs": [
    {
     "data": {
      "text/html": [
       "<div>\n",
       "<style scoped>\n",
       "    .dataframe tbody tr th:only-of-type {\n",
       "        vertical-align: middle;\n",
       "    }\n",
       "\n",
       "    .dataframe tbody tr th {\n",
       "        vertical-align: top;\n",
       "    }\n",
       "\n",
       "    .dataframe thead th {\n",
       "        text-align: right;\n",
       "    }\n",
       "</style>\n",
       "<table border=\"1\" class=\"dataframe\">\n",
       "  <thead>\n",
       "    <tr style=\"text-align: right;\">\n",
       "      <th></th>\n",
       "      <th>0</th>\n",
       "    </tr>\n",
       "  </thead>\n",
       "  <tbody>\n",
       "    <tr>\n",
       "      <th>0</th>\n",
       "      <td>0.136219</td>\n",
       "    </tr>\n",
       "    <tr>\n",
       "      <th>1</th>\n",
       "      <td>0.000000</td>\n",
       "    </tr>\n",
       "    <tr>\n",
       "      <th>2</th>\n",
       "      <td>0.149602</td>\n",
       "    </tr>\n",
       "    <tr>\n",
       "      <th>3</th>\n",
       "      <td>0.815212</td>\n",
       "    </tr>\n",
       "    <tr>\n",
       "      <th>4</th>\n",
       "      <td>0.772217</td>\n",
       "    </tr>\n",
       "    <tr>\n",
       "      <th>5</th>\n",
       "      <td>0.815212</td>\n",
       "    </tr>\n",
       "  </tbody>\n",
       "</table>\n",
       "</div>"
      ],
      "text/plain": [
       "          0\n",
       "0  0.136219\n",
       "1  0.000000\n",
       "2  0.149602\n",
       "3  0.815212\n",
       "4  0.772217\n",
       "5  0.815212"
      ]
     },
     "execution_count": 137,
     "metadata": {},
     "output_type": "execute_result"
    }
   ],
   "source": [
    "pd.DataFrame(multipletests([p2,p14,p17,p20,p22,p4],alpha=0.05,method='holm')[1])"
   ]
  },
  {
   "cell_type": "code",
   "execution_count": 138,
   "metadata": {},
   "outputs": [
    {
     "data": {
      "text/html": [
       "<div>\n",
       "<style scoped>\n",
       "    .dataframe tbody tr th:only-of-type {\n",
       "        vertical-align: middle;\n",
       "    }\n",
       "\n",
       "    .dataframe tbody tr th {\n",
       "        vertical-align: top;\n",
       "    }\n",
       "\n",
       "    .dataframe thead th {\n",
       "        text-align: right;\n",
       "    }\n",
       "</style>\n",
       "<table border=\"1\" class=\"dataframe\">\n",
       "  <thead>\n",
       "    <tr style=\"text-align: right;\">\n",
       "      <th></th>\n",
       "      <th>0</th>\n",
       "    </tr>\n",
       "  </thead>\n",
       "  <tbody>\n",
       "    <tr>\n",
       "      <th>0</th>\n",
       "      <td>0.027244</td>\n",
       "    </tr>\n",
       "    <tr>\n",
       "      <th>1</th>\n",
       "      <td>0.000000</td>\n",
       "    </tr>\n",
       "    <tr>\n",
       "      <th>2</th>\n",
       "      <td>0.037401</td>\n",
       "    </tr>\n",
       "    <tr>\n",
       "      <th>3</th>\n",
       "      <td>0.453667</td>\n",
       "    </tr>\n",
       "    <tr>\n",
       "      <th>4</th>\n",
       "      <td>0.257406</td>\n",
       "    </tr>\n",
       "    <tr>\n",
       "      <th>5</th>\n",
       "      <td>0.407606</td>\n",
       "    </tr>\n",
       "  </tbody>\n",
       "</table>\n",
       "</div>"
      ],
      "text/plain": [
       "          0\n",
       "0  0.027244\n",
       "1  0.000000\n",
       "2  0.037401\n",
       "3  0.453667\n",
       "4  0.257406\n",
       "5  0.407606"
      ]
     },
     "execution_count": 138,
     "metadata": {},
     "output_type": "execute_result"
    }
   ],
   "source": [
    "pd.DataFrame([p2,p14,p17,p20,p22,p4])"
   ]
  },
  {
   "cell_type": "code",
   "execution_count": null,
   "metadata": {},
   "outputs": [],
   "source": []
  }
 ],
 "metadata": {
  "kernelspec": {
   "display_name": "Python 3",
   "language": "python",
   "name": "python3"
  },
  "language_info": {
   "codemirror_mode": {
    "name": "ipython",
    "version": 3
   },
   "file_extension": ".py",
   "mimetype": "text/x-python",
   "name": "python",
   "nbconvert_exporter": "python",
   "pygments_lexer": "ipython3",
   "version": "3.8.3"
  }
 },
 "nbformat": 4,
 "nbformat_minor": 4
}
